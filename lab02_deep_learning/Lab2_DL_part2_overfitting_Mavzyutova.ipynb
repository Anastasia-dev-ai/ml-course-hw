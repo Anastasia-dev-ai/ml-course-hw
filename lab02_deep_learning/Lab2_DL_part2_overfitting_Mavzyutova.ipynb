{
 "cells": [
  {
   "cell_type": "markdown",
   "metadata": {
    "cellId": "5aritzy6ys6qhfm714lp8f",
    "id": "NFmOh482SyEF",
    "pycharm": {
     "name": "#%% md\n"
    }
   },
   "source": [
    "## Lab 2\n",
    "### Part 2: Dealing with overfitting"
   ]
  },
  {
   "cell_type": "markdown",
   "metadata": {
    "cellId": "at31avk8nz5o20fquz999a",
    "id": "AjzAuO3oSvsI",
    "pycharm": {
     "name": "#%% md\n"
    }
   },
   "source": [
    "Today we work with [Fashion-MNIST dataset](https://github.com/zalandoresearch/fashion-mnist) (*hint: it is available in `torchvision`*).\n",
    "\n",
    "Your goal for today:\n",
    "1. Train a FC (fully-connected) network that achieves >= 0.885 test accuracy.\n",
    "2. Cause considerable overfitting by modifying the network (e.g. increasing the number of network parameters and/or layers) and demonstrate in in the appropriate way (e.g. plot loss and accurasy on train and validation set w.r.t. network complexity).\n",
    "3. Try to deal with overfitting (at least partially) by using regularization techniques (Dropout/Batchnorm/...) and demonstrate the results.\n",
    "\n",
    "__Please, write a small report describing your ideas, tries and achieved results in the end of this file.__\n",
    "\n",
    "*Note*: Tasks 2 and 3 are interrelated, in task 3 your goal is to make the network from task 2 less prone to overfitting. Task 1 is independent from 2 and 3.\n",
    "\n",
    "*Note 2*: We recomment to use Google Colab or other machine with GPU acceleration."
   ]
  },
  {
   "cell_type": "code",
   "execution_count": 30,
   "metadata": {
    "cellId": "l81ewmjxr3n00xgt23repvtj",
    "id": "_KBld6VOSwhW",
    "pycharm": {
     "name": "#%%\n"
    }
   },
   "outputs": [],
   "source": [
    "import torch\n",
    "import torch.nn as nn\n",
    "import torchvision\n",
    "import torchvision.transforms as transforms\n",
    "import torchsummary\n",
    "from IPython.display import clear_output\n",
    "from matplotlib import pyplot as plt\n",
    "from matplotlib.pyplot import figure\n",
    "import numpy as np\n",
    "import os\n",
    "import time\n",
    "\n",
    "device = 'cuda:0' if torch.cuda.is_available() else 'cpu'"
   ]
  },
  {
   "cell_type": "code",
   "execution_count": 52,
   "metadata": {
    "cellId": "csemqyboo0firp99ly1zd",
    "colab": {
     "base_uri": "https://localhost:8080/"
    },
    "id": "EdLOG0XqS_g5",
    "outputId": "ae3214ea-8eb3-41a7-bf28-6d887a60f431",
    "pycharm": {
     "name": "#%%\n"
    }
   },
   "outputs": [
    {
     "name": "stdout",
     "output_type": "stream",
     "text": [
      "Directory fmnist already exists!\n"
     ]
    }
   ],
   "source": [
    "# Technical function\n",
    "def mkdir(path):\n",
    "    if not os.path.exists(root_path):\n",
    "        os.mkdir(root_path)\n",
    "        print('Directory', path, 'is created!')\n",
    "    else:\n",
    "        print('Directory', path, 'already exists!')\n",
    "\n",
    "root_path = 'fmnist'\n",
    "mkdir(root_path)"
   ]
  },
  {
   "cell_type": "code",
   "execution_count": 53,
   "metadata": {
    "cellId": "8zberyryrdnpx9uztxgvz",
    "colab": {
     "base_uri": "https://localhost:8080/"
    },
    "id": "qt6LE7XaTDT9",
    "outputId": "0984ab8e-04eb-4601-d1aa-d56423783016",
    "pycharm": {
     "name": "#%%\n"
    }
   },
   "outputs": [],
   "source": [
    "download = True\n",
    "train_transform = transforms.ToTensor()\n",
    "test_transform = transforms.ToTensor()\n",
    "transforms.Compose((transforms.ToTensor()))\n",
    "\n",
    "\n",
    "fmnist_dataset_train = torchvision.datasets.FashionMNIST(root_path,\n",
    "                                                        train=True,\n",
    "                                                        transform=train_transform,\n",
    "                                                        target_transform=None,\n",
    "                                                        download=download)\n",
    "fmnist_dataset_test = torchvision.datasets.FashionMNIST(root_path,\n",
    "                                                       train=False,\n",
    "                                                       transform=test_transform,\n",
    "                                                       target_transform=None,\n",
    "                                                       download=download)"
   ]
  },
  {
   "cell_type": "code",
   "execution_count": 54,
   "metadata": {
    "cellId": "dnkwc57rd5k72gyr1x6phd",
    "id": "71YP0SPwTIxD",
    "pycharm": {
     "name": "#%%\n"
    }
   },
   "outputs": [],
   "source": [
    "train_loader = torch.utils.data.DataLoader(fmnist_dataset_train,\n",
    "                                           batch_size=128,\n",
    "                                           shuffle=True,\n",
    "                                           num_workers=2)\n",
    "test_loader = torch.utils.data.DataLoader(fmnist_dataset_test,\n",
    "                                          batch_size=256,\n",
    "                                          shuffle=False,\n",
    "                                          num_workers=2)"
   ]
  },
  {
   "cell_type": "code",
   "execution_count": 55,
   "metadata": {
    "cellId": "0zjz1cg895rh3sc94oal06q",
    "colab": {
     "base_uri": "https://localhost:8080/"
    },
    "id": "v_YFmF7NTWrQ",
    "outputId": "dd617278-b97c-4440-a969-6c93aaf1faf1",
    "pycharm": {
     "name": "#%%\n"
    }
   },
   "outputs": [
    {
     "data": {
      "text/plain": [
       "10000"
      ]
     },
     "execution_count": 55,
     "metadata": {},
     "output_type": "execute_result"
    }
   ],
   "source": [
    "len(fmnist_dataset_test)"
   ]
  },
  {
   "cell_type": "code",
   "execution_count": 56,
   "metadata": {
    "cellId": "vpkfnq9vc7izurpyjezc8d",
    "colab": {
     "base_uri": "https://localhost:8080/"
    },
    "id": "aHca15bOTY4B",
    "outputId": "ebae415e-f753-41f2-d719-3c7c1b3df839",
    "pycharm": {
     "name": "#%%\n"
    }
   },
   "outputs": [
    {
     "name": "stdout",
     "output_type": "stream",
     "text": [
      "torch.Size([128, 1, 28, 28])\n",
      "torch.Size([128])\n",
      "128\n"
     ]
    }
   ],
   "source": [
    "for img, label in train_loader:\n",
    "    print(img.shape)\n",
    "#     print(img)\n",
    "    print(label.shape)\n",
    "    print(label.size(0))\n",
    "    break"
   ]
  },
  {
   "cell_type": "markdown",
   "metadata": {
    "cellId": "bkvptsmuel5achqqq9ecc",
    "execution_id": "22ac6628-1e32-46f0-9550-bd66276588c3",
    "id": "b6OOOffHTfX5",
    "pycharm": {
     "name": "#%% md\n"
    }
   },
   "source": [
    "### Task 1\n",
    "Train a network that achieves $\\geq 0.885$ test accuracy. It's fine to use only Linear (`nn.Linear`) layers and activations/dropout/batchnorm. Convolutional layers might be a great use, but we will meet them a bit later."
   ]
  },
  {
   "cell_type": "markdown",
   "metadata": {
    "cellId": "lqcu8fpgpsij1hiwy3m8r",
    "execution_id": "b0c148fc-5f10-4ccb-8df7-2d523ec9a763"
   },
   "source": [
    "Архитектура модели"
   ]
  },
  {
   "cell_type": "code",
   "execution_count": 57,
   "metadata": {
    "cellId": "tj8x3x85euceo0fy7un1a",
    "colab": {
     "base_uri": "https://localhost:8080/"
    },
    "id": "zG-pWmbY2X61",
    "outputId": "1b96e01b-a385-4956-91a5-46e82d8c9e34",
    "pycharm": {
     "name": "#%%\n"
    }
   },
   "outputs": [],
   "source": [
    "class TinyNeuralNetwork(nn.Module):\n",
    "    def __init__(self, input_shape=28*28, num_classes=10, input_channels=1):\n",
    "        super(TinyNeuralNetwork, self).__init__()\n",
    "        self.model = nn.Sequential(\n",
    "            nn.Flatten(),\n",
    "            nn.Linear(input_shape, 512),\n",
    "            nn.Linear(512, 128),\n",
    "            nn.BatchNorm1d(128),\n",
    "            nn.ReLU(),\n",
    "            nn.Dropout(0.6),    \n",
    "            nn.Linear(128, 50),\n",
    "            nn.BatchNorm1d(50),\n",
    "            nn.ReLU(),    \n",
    "            nn.Dropout(0.6),\n",
    "            nn.Linear(50, num_classes),\n",
    "        )\n",
    "\n",
    "    def forward(self, inp):\n",
    "        out = self.model(inp)\n",
    "        return out"
   ]
  },
  {
   "cell_type": "markdown",
   "metadata": {
    "cellId": "kqcqfn6kignyjyjuo7ye",
    "execution_id": "21831fd7-9a97-48e4-b06a-15c167ece37f"
   },
   "source": [
    "Обучение модели, взято из семинара\n",
    "https://github.com/girafe-ai/ml-course/blob/master/week0_08_dropout_batchnorm/practice_pytorch_and_dataloaders.ipynb"
   ]
  },
  {
   "cell_type": "code",
   "execution_count": 58,
   "metadata": {
    "cellId": "dnq0gqk4dgi3nxzu0z10c"
   },
   "outputs": [],
   "source": [
    "def train_model(model, train_loader, val_loader, loss_fn, opt, n_epochs: int):\n",
    "    train_loss = []\n",
    "    val_loss = []\n",
    "    val_accuracy = []\n",
    "    \n",
    "    for epoch in range(n_epochs):\n",
    "        ep_train_loss = []\n",
    "        ep_val_loss = []\n",
    "        ep_val_accuracy = []\n",
    "        start_time = time.time()\n",
    "\n",
    "        model.train(True) # enable dropout / batch_norm training behavior\n",
    "        for X_batch, y_batch in train_loader:\n",
    "            # move data to target device\n",
    "            X_batch, y_batch = X_batch.to(device), y_batch.to(device)\n",
    "            ### YOUR CODE HERE\n",
    "            y_pred = model(X_batch)\n",
    "            loss = loss_func(y_pred, y_batch)\n",
    "            loss.backward()\n",
    "            opt.step()\n",
    "            opt.zero_grad()\n",
    "            # train on batch: compute loss, calc grads, perform optimizer step and zero the grads\n",
    "            ### YOUR CODE HERE\n",
    "            ep_train_loss.append(loss.item())\n",
    "\n",
    "        model.train(False) # disable dropout / use averages for batch_norm\n",
    "        with torch.no_grad():\n",
    "            for X_batch, y_batch in val_loader:\n",
    "                # move data to target device\n",
    "                ### YOUR CODE HERE\n",
    "                X_batch, y_batch = X_batch.to(device), y_batch.to(device)\n",
    "                ### YOUR CODE HERE\n",
    "                y_pred = model(X_batch)\n",
    "                loss = loss_func(y_pred, y_batch)\n",
    "              \n",
    "\n",
    "                # compute predictions\n",
    "                ### YOUR CODE HERE\n",
    "                ep_val_loss.append(loss.item())\n",
    "                y_pred = y_pred.max(dim=1)[1] ### YOUR CODE HERE\n",
    "                ep_val_accuracy.append((y_pred == y_batch).detach().cpu().numpy().mean())\n",
    "\n",
    "        # print the results for this epoch:\n",
    "        print(f'Epoch {epoch + 1} of {n_epochs} took {time.time() - start_time:.3f}s')\n",
    "\n",
    "        train_loss.append(np.mean(ep_train_loss))\n",
    "        val_loss.append(np.mean(ep_val_loss))\n",
    "        val_accuracy.append(np.mean(ep_val_accuracy))\n",
    "        \n",
    "        print(f\"\\t  training loss: {train_loss[-1]:.6f}\")\n",
    "        print(f\"\\tvalidation loss: {val_loss[-1]:.6f}\")\n",
    "        print(f\"\\tvalidation accuracy: {val_accuracy[-1]:.3f}\")\n",
    "\n",
    "    return train_loss, val_loss, val_accuracy"
   ]
  },
  {
   "cell_type": "code",
   "execution_count": 59,
   "metadata": {
    "cellId": "bwq3zsbdurma99piwmm3j6"
   },
   "outputs": [
    {
     "name": "stdout",
     "output_type": "stream",
     "text": [
      "Epoch 1 of 30 took 4.177s\n",
      "\t  training loss: 2.056346\n",
      "\tvalidation loss: 1.684829\n",
      "\tvalidation accuracy: 0.606\n",
      "Epoch 2 of 30 took 4.214s\n",
      "\t  training loss: 1.733607\n",
      "\tvalidation loss: 1.470205\n",
      "\tvalidation accuracy: 0.680\n",
      "Epoch 3 of 30 took 4.331s\n",
      "\t  training loss: 1.581663\n",
      "\tvalidation loss: 1.324945\n",
      "\tvalidation accuracy: 0.707\n",
      "Epoch 4 of 30 took 4.210s\n",
      "\t  training loss: 1.465245\n",
      "\tvalidation loss: 1.213296\n",
      "\tvalidation accuracy: 0.729\n",
      "Epoch 5 of 30 took 4.223s\n",
      "\t  training loss: 1.373363\n",
      "\tvalidation loss: 1.120689\n",
      "\tvalidation accuracy: 0.738\n",
      "Epoch 6 of 30 took 4.309s\n",
      "\t  training loss: 1.302727\n",
      "\tvalidation loss: 1.039457\n",
      "\tvalidation accuracy: 0.748\n",
      "Epoch 7 of 30 took 4.197s\n",
      "\t  training loss: 1.243164\n",
      "\tvalidation loss: 0.975760\n",
      "\tvalidation accuracy: 0.759\n",
      "Epoch 8 of 30 took 4.196s\n",
      "\t  training loss: 1.190418\n",
      "\tvalidation loss: 0.915975\n",
      "\tvalidation accuracy: 0.768\n",
      "Epoch 9 of 30 took 4.258s\n",
      "\t  training loss: 1.148403\n",
      "\tvalidation loss: 0.873540\n",
      "\tvalidation accuracy: 0.770\n",
      "Epoch 10 of 30 took 4.275s\n",
      "\t  training loss: 1.109513\n",
      "\tvalidation loss: 0.839870\n",
      "\tvalidation accuracy: 0.774\n",
      "Epoch 11 of 30 took 4.216s\n",
      "\t  training loss: 1.078611\n",
      "\tvalidation loss: 0.808670\n",
      "\tvalidation accuracy: 0.782\n",
      "Epoch 12 of 30 took 4.181s\n",
      "\t  training loss: 1.051093\n",
      "\tvalidation loss: 0.773886\n",
      "\tvalidation accuracy: 0.784\n",
      "Epoch 13 of 30 took 4.289s\n",
      "\t  training loss: 1.026043\n",
      "\tvalidation loss: 0.745670\n",
      "\tvalidation accuracy: 0.791\n",
      "Epoch 14 of 30 took 4.194s\n",
      "\t  training loss: 1.002524\n",
      "\tvalidation loss: 0.724399\n",
      "\tvalidation accuracy: 0.791\n",
      "Epoch 15 of 30 took 4.266s\n",
      "\t  training loss: 0.986043\n",
      "\tvalidation loss: 0.707434\n",
      "\tvalidation accuracy: 0.797\n",
      "Epoch 16 of 30 took 4.219s\n",
      "\t  training loss: 0.963358\n",
      "\tvalidation loss: 0.687249\n",
      "\tvalidation accuracy: 0.798\n",
      "Epoch 17 of 30 took 4.141s\n",
      "\t  training loss: 0.946270\n",
      "\tvalidation loss: 0.672849\n",
      "\tvalidation accuracy: 0.801\n",
      "Epoch 18 of 30 took 4.154s\n",
      "\t  training loss: 0.931961\n",
      "\tvalidation loss: 0.657166\n",
      "\tvalidation accuracy: 0.806\n",
      "Epoch 19 of 30 took 4.280s\n",
      "\t  training loss: 0.913659\n",
      "\tvalidation loss: 0.642958\n",
      "\tvalidation accuracy: 0.806\n",
      "Epoch 20 of 30 took 4.270s\n",
      "\t  training loss: 0.903421\n",
      "\tvalidation loss: 0.629437\n",
      "\tvalidation accuracy: 0.804\n",
      "Epoch 21 of 30 took 4.240s\n",
      "\t  training loss: 0.892422\n",
      "\tvalidation loss: 0.619847\n",
      "\tvalidation accuracy: 0.808\n",
      "Epoch 22 of 30 took 4.185s\n",
      "\t  training loss: 0.875959\n",
      "\tvalidation loss: 0.611181\n",
      "\tvalidation accuracy: 0.810\n",
      "Epoch 23 of 30 took 4.279s\n",
      "\t  training loss: 0.868142\n",
      "\tvalidation loss: 0.599922\n",
      "\tvalidation accuracy: 0.812\n",
      "Epoch 24 of 30 took 4.280s\n",
      "\t  training loss: 0.860318\n",
      "\tvalidation loss: 0.592922\n",
      "\tvalidation accuracy: 0.812\n",
      "Epoch 25 of 30 took 4.248s\n",
      "\t  training loss: 0.851754\n",
      "\tvalidation loss: 0.585390\n",
      "\tvalidation accuracy: 0.816\n",
      "Epoch 26 of 30 took 4.230s\n",
      "\t  training loss: 0.843210\n",
      "\tvalidation loss: 0.576378\n",
      "\tvalidation accuracy: 0.814\n",
      "Epoch 27 of 30 took 4.195s\n",
      "\t  training loss: 0.831014\n",
      "\tvalidation loss: 0.570435\n",
      "\tvalidation accuracy: 0.815\n",
      "Epoch 28 of 30 took 4.163s\n",
      "\t  training loss: 0.824413\n",
      "\tvalidation loss: 0.564178\n",
      "\tvalidation accuracy: 0.818\n",
      "Epoch 29 of 30 took 4.183s\n",
      "\t  training loss: 0.819274\n",
      "\tvalidation loss: 0.560815\n",
      "\tvalidation accuracy: 0.819\n",
      "Epoch 30 of 30 took 4.143s\n",
      "\t  training loss: 0.809684\n",
      "\tvalidation loss: 0.553087\n",
      "\tvalidation accuracy: 0.821\n"
     ]
    }
   ],
   "source": [
    "n_epochs = 30\n",
    "model = TinyNeuralNetwork().to(device)\n",
    "opt = torch.optim.SGD(model.parameters(), lr=0.01)\n",
    "loss_func = nn.CrossEntropyLoss()\n",
    "\n",
    "train_loss, val_loss, val_accuracy = train_model(model, train_loader, test_loader, loss_func, opt, n_epochs)"
   ]
  },
  {
   "cell_type": "code",
   "execution_count": 60,
   "metadata": {
    "cellId": "gny55xz3m7qqou0rgpluam"
   },
   "outputs": [],
   "source": [
    "def plot_train_process(train_loss, val_loss, val_accuracy):\n",
    "    fig, axes = plt.subplots(1, 2, figsize=(15, 5))\n",
    "\n",
    "    axes[0].set_title('Loss')\n",
    "    axes[0].plot(train_loss, label='train')\n",
    "    axes[0].plot(val_loss, label='validation')\n",
    "    axes[0].legend()\n",
    "\n",
    "    axes[1].set_title('Validation accuracy')\n",
    "    axes[1].plot(val_accuracy)"
   ]
  },
  {
   "cell_type": "code",
   "execution_count": 61,
   "metadata": {
    "cellId": "twhm3s50ctc87o6zd6x29"
   },
   "outputs": [
    {
     "data": {
      "image/png": "[encoded data removed]",
      "text/plain": [
       "<Figure size 1080x360 with 2 Axes>"
      ]
     },
     "metadata": {
      "needs_background": "light"
     },
     "output_type": "display_data"
    }
   ],
   "source": [
    "plot_train_process(train_loss, val_loss, val_accuracy)"
   ]
  },
  {
   "cell_type": "markdown",
   "metadata": {
    "cellId": "sdh7ozt207s6usml0fzlkj",
    "execution_id": "2a7656ba-db4c-4b57-807c-e6057869dd0e"
   },
   "source": [
    "Мы видим по графикам лосса для выборки обучения и валидации, что ошибка на валидации ниже ошибки на трейне, что значит, что переобучение не наступило еще, более того - не наступило то обучение для модели, которое мы можем выжать из этих данных"
   ]
  },
  {
   "cell_type": "markdown",
   "metadata": {
    "cellId": "bxfnah3jeqn7mczf3dt9e",
    "execution_id": "368872bd-50e6-437c-86f9-8f4167db1eb9",
    "id": "L7ISqkjmCPB1",
    "pycharm": {
     "name": "#%% md\n"
    }
   },
   "source": [
    "### Task 2: Overfit it.\n",
    "Build a network that will overfit to this dataset. Demonstrate the overfitting in the appropriate way (e.g. plot loss and accurasy on train and test set w.r.t. network complexity).\n",
    "\n",
    "*Note:* you also might decrease the size of `train` dataset to enforce the overfitting and speed up the computations."
   ]
  },
  {
   "cell_type": "markdown",
   "metadata": {
    "cellId": "t8upgkdvzjcuaviw8v2nb",
    "execution_id": "65aa1bbf-e6a8-48c1-b52f-2bd5458c4fb2"
   },
   "source": [
    "Убери дропаут и нормализацию, а еще увеличу размер скрытого слоя, чтобы добиться переобучения"
   ]
  },
  {
   "cell_type": "code",
   "execution_count": 68,
   "metadata": {
    "cellId": "rpqi26f7px74uyaduy366q",
    "colab": {
     "base_uri": "https://localhost:8080/"
    },
    "id": "8yGyzSYG2dAL",
    "outputId": "8be67614-b899-4d1d-82ca-d84d59d11ac7",
    "pycharm": {
     "name": "#%%\n"
    }
   },
   "outputs": [],
   "source": [
    "class OverfittingNeuralNetwork(nn.Module):\n",
    "    def __init__(self, input_shape=28*28, num_classes=10, input_channels=1):\n",
    "        super(OverfittingNeuralNetwork, self).__init__()\n",
    "        self.model = nn.Sequential(\n",
    "            nn.Flatten(),\n",
    "            # Increase network complexity here (e.g., add more linear layers)\n",
    "            nn.Linear(input_shape, 2048),\n",
    "            nn.ReLU(),\n",
    "            nn.Linear(2048, 1024),\n",
    "            nn.ReLU(),\n",
    "            nn.Linear(1024, 512),\n",
    "            nn.ReLU(),\n",
    "            nn.Linear(512, 256),\n",
    "            nn.ReLU(),\n",
    "            nn.Linear(256, 128),\n",
    "            nn.ReLU(),\n",
    "            nn.Linear(128, 64),\n",
    "            nn.ReLU(),\n",
    "            nn.Linear(64, 32),\n",
    "            nn.ReLU(),\n",
    "            nn.Linear(32, num_classes)\n",
    "        )\n",
    "\n",
    "    def forward(self, inp):\n",
    "        out = self.model(inp)\n",
    "        return out\n",
    "\n",
    "model = OverfittingNeuralNetwork().to(device)\n",
    "opt = torch.optim.SGD(model.parameters(), lr=0.1)\n",
    "loss_func = nn.CrossEntropyLoss()"
   ]
  },
  {
   "cell_type": "code",
   "execution_count": 69,
   "metadata": {
    "cellId": "bwz97cxoeuci87p7on8zmr"
   },
   "outputs": [
    {
     "name": "stdout",
     "output_type": "stream",
     "text": [
      "Epoch 1 of 30 took 10.811s\n",
      "\t  training loss: 2.253219\n",
      "\tvalidation loss: 1.665705\n",
      "\tvalidation accuracy: 0.234\n",
      "Epoch 2 of 30 took 10.702s\n",
      "\t  training loss: 1.345556\n",
      "\tvalidation loss: 0.893415\n",
      "\tvalidation accuracy: 0.642\n",
      "Epoch 3 of 30 took 11.025s\n",
      "\t  training loss: 0.773663\n",
      "\tvalidation loss: 0.610012\n",
      "\tvalidation accuracy: 0.759\n",
      "Epoch 4 of 30 took 12.330s\n",
      "\t  training loss: 0.550772\n",
      "\tvalidation loss: 0.492556\n",
      "\tvalidation accuracy: 0.819\n",
      "Epoch 5 of 30 took 11.969s\n",
      "\t  training loss: 0.817646\n",
      "\tvalidation loss: 0.665418\n",
      "\tvalidation accuracy: 0.766\n",
      "Epoch 6 of 30 took 11.860s\n",
      "\t  training loss: 0.528280\n",
      "\tvalidation loss: 0.669902\n",
      "\tvalidation accuracy: 0.760\n",
      "Epoch 7 of 30 took 11.936s\n",
      "\t  training loss: 0.439833\n",
      "\tvalidation loss: 0.442778\n",
      "\tvalidation accuracy: 0.838\n",
      "Epoch 8 of 30 took 11.676s\n",
      "\t  training loss: 0.391046\n",
      "\tvalidation loss: 0.428997\n",
      "\tvalidation accuracy: 0.852\n",
      "Epoch 9 of 30 took 11.423s\n",
      "\t  training loss: 0.398313\n",
      "\tvalidation loss: 0.372702\n",
      "\tvalidation accuracy: 0.867\n",
      "Epoch 10 of 30 took 11.705s\n",
      "\t  training loss: 0.349947\n",
      "\tvalidation loss: 0.409817\n",
      "\tvalidation accuracy: 0.856\n",
      "Epoch 11 of 30 took 12.181s\n",
      "\t  training loss: 0.317706\n",
      "\tvalidation loss: 0.400643\n",
      "\tvalidation accuracy: 0.850\n",
      "Epoch 12 of 30 took 10.678s\n",
      "\t  training loss: 0.319441\n",
      "\tvalidation loss: 0.371844\n",
      "\tvalidation accuracy: 0.870\n",
      "Epoch 13 of 30 took 12.078s\n",
      "\t  training loss: 0.289021\n",
      "\tvalidation loss: 0.361669\n",
      "\tvalidation accuracy: 0.870\n",
      "Epoch 14 of 30 took 11.079s\n",
      "\t  training loss: 0.275859\n",
      "\tvalidation loss: 0.362476\n",
      "\tvalidation accuracy: 0.874\n",
      "Epoch 15 of 30 took 11.130s\n",
      "\t  training loss: 0.265258\n",
      "\tvalidation loss: 0.351371\n",
      "\tvalidation accuracy: 0.879\n",
      "Epoch 16 of 30 took 12.222s\n",
      "\t  training loss: 0.253927\n",
      "\tvalidation loss: 0.339358\n",
      "\tvalidation accuracy: 0.883\n",
      "Epoch 17 of 30 took 11.108s\n",
      "\t  training loss: 0.300826\n",
      "\tvalidation loss: 0.364586\n",
      "\tvalidation accuracy: 0.872\n",
      "Epoch 18 of 30 took 10.979s\n",
      "\t  training loss: 0.245049\n",
      "\tvalidation loss: 0.354789\n",
      "\tvalidation accuracy: 0.880\n",
      "Epoch 19 of 30 took 11.133s\n",
      "\t  training loss: 0.231970\n",
      "\tvalidation loss: 0.332008\n",
      "\tvalidation accuracy: 0.884\n",
      "Epoch 20 of 30 took 11.880s\n",
      "\t  training loss: 0.224914\n",
      "\tvalidation loss: 0.411876\n",
      "\tvalidation accuracy: 0.863\n",
      "Epoch 21 of 30 took 11.491s\n",
      "\t  training loss: 0.222296\n",
      "\tvalidation loss: 0.355210\n",
      "\tvalidation accuracy: 0.884\n",
      "Epoch 22 of 30 took 12.191s\n",
      "\t  training loss: 0.213832\n",
      "\tvalidation loss: 0.389547\n",
      "\tvalidation accuracy: 0.868\n",
      "Epoch 23 of 30 took 10.979s\n",
      "\t  training loss: 0.209427\n",
      "\tvalidation loss: 0.320248\n",
      "\tvalidation accuracy: 0.892\n",
      "Epoch 24 of 30 took 12.567s\n",
      "\t  training loss: 0.195135\n",
      "\tvalidation loss: 0.354377\n",
      "\tvalidation accuracy: 0.881\n",
      "Epoch 25 of 30 took 11.953s\n",
      "\t  training loss: 0.195980\n",
      "\tvalidation loss: 0.331592\n",
      "\tvalidation accuracy: 0.892\n",
      "Epoch 26 of 30 took 10.961s\n",
      "\t  training loss: 0.188195\n",
      "\tvalidation loss: 0.562261\n",
      "\tvalidation accuracy: 0.833\n",
      "Epoch 27 of 30 took 11.601s\n",
      "\t  training loss: 0.183924\n",
      "\tvalidation loss: 0.367208\n",
      "\tvalidation accuracy: 0.882\n",
      "Epoch 28 of 30 took 11.430s\n",
      "\t  training loss: 0.181999\n",
      "\tvalidation loss: 0.349478\n",
      "\tvalidation accuracy: 0.886\n",
      "Epoch 29 of 30 took 11.555s\n",
      "\t  training loss: 0.173197\n",
      "\tvalidation loss: 0.335739\n",
      "\tvalidation accuracy: 0.894\n",
      "Epoch 30 of 30 took 12.409s\n",
      "\t  training loss: 0.421752\n",
      "\tvalidation loss: 0.884235\n",
      "\tvalidation accuracy: 0.673\n"
     ]
    }
   ],
   "source": [
    "n_epochs = 30\n",
    "\n",
    "train_loss, val_loss, val_accuracy = train_model(model, train_loader, test_loader, loss_func, opt, n_epochs)"
   ]
  },
  {
   "cell_type": "code",
   "execution_count": 70,
   "metadata": {
    "cellId": "ic6kxev41fo5t4qlpiqa6v"
   },
   "outputs": [
    {
     "data": {
      "image/png": "[encoded data removed]",
      "text/plain": [
       "<Figure size 1080x360 with 2 Axes>"
      ]
     },
     "metadata": {
      "needs_background": "light"
     },
     "output_type": "display_data"
    }
   ],
   "source": [
    "plot_train_process(train_loss, val_loss, val_accuracy)"
   ]
  },
  {
   "cell_type": "markdown",
   "metadata": {
    "cellId": "hm5vl9glwne078huc85q4c2",
    "execution_id": "5abd7088-b301-4752-a980-29d7745190bb"
   },
   "source": [
    "Основной совет для переобучения - застакать больше слоев, убрать регуляризацию и сделать большой шаг обучения.\n",
    "По графику лосса на трейне и тесте мы видим, что случилось переобучение, так как ошибка на валидации стала расти - около 8 эпохи кривые стали расходиться(в этот момент и случилось переобучение)"
   ]
  },
  {
   "cell_type": "markdown",
   "metadata": {
    "cellId": "122v1bxkqlndrqthz7el1y",
    "execution_id": "3b82874f-9bfd-4823-bce3-1d56cfbded44",
    "id": "SiB3mBkP1Skx",
    "pycharm": {
     "name": "#%% md\n"
    }
   },
   "source": [
    "### Task 3: Fix it.\n",
    "Fix the overfitted network from the previous step (at least partially) by using regularization techniques (Dropout/Batchnorm/...) and demonstrate the results."
   ]
  },
  {
   "cell_type": "markdown",
   "metadata": {
    "cellId": "82je7wwjoac1qrv6uwv75w",
    "execution_id": "10316351-96f7-41cc-bb93-a4b82009da1b"
   },
   "source": [
    "Добавим в архитектуру сети нормализацию и достаточной высокий дропаут, чтобы убрать переобучение"
   ]
  },
  {
   "cell_type": "code",
   "execution_count": 74,
   "metadata": {
    "cellId": "i45lxchvyhidvkp9unz6jr",
    "colab": {
     "base_uri": "https://localhost:8080/"
    },
    "id": "CdNixacp3B5o",
    "outputId": "0b08ebbd-6ad2-47bd-d918-af6ada63e0e9",
    "pycharm": {
     "name": "#%%\n"
    }
   },
   "outputs": [],
   "source": [
    "class FixedNeuralNetwork(nn.Module):\n",
    "    def __init__(self, input_shape=28*28, num_classes=10, input_channels=1):\n",
    "        super(FixedNeuralNetwork, self).__init__()\n",
    "        self.model = nn.Sequential(\n",
    "            nn.Flatten(),\n",
    "            # Apply regularization techniques (e.g., Dropout, Batch Normalization) to reduce overfitting\n",
    "            nn.Linear(input_shape, 2048),         \n",
    "            nn.ReLU(),\n",
    "            nn.Dropout(0.5),\n",
    "            nn.Linear(2048, 1024),         \n",
    "            nn.ReLU(),\n",
    "            nn.Dropout(0.5),  \n",
    "            nn.Linear(1024, 512),\n",
    "            nn.BatchNorm1d(512),\n",
    "            nn.ReLU(),\n",
    "            nn.Dropout(0.5),  \n",
    "            nn.Linear(512, 256),\n",
    "            nn.BatchNorm1d(256),\n",
    "            nn.ReLU(),\n",
    "            nn.Dropout(0.5),  \n",
    "            nn.Linear(256, 128),\n",
    "            nn.BatchNorm1d(128),\n",
    "            nn.ReLU(),\n",
    "            nn.Dropout(0.5),  \n",
    "            nn.Linear(128, 64),\n",
    "            nn.BatchNorm1d(64),\n",
    "            nn.ReLU(),\n",
    "            nn.Linear(64, num_classes)\n",
    "        )\n",
    "\n",
    "    def forward(self, inp):\n",
    "        out = self.model(inp)\n",
    "        return out\n",
    "\n",
    "model = FixedNeuralNetwork().to(device)\n",
    "opt = torch.optim.SGD(model.parameters(), lr=0.01)\n",
    "loss_func = nn.CrossEntropyLoss()"
   ]
  },
  {
   "cell_type": "code",
   "execution_count": 75,
   "metadata": {
    "cellId": "fqeqv761l2rbezywz71xuw"
   },
   "outputs": [
    {
     "name": "stdout",
     "output_type": "stream",
     "text": [
      "Epoch 1 of 30 took 11.208s\n",
      "\t  training loss: 1.972129\n",
      "\tvalidation loss: 1.382105\n",
      "\tvalidation accuracy: 0.589\n",
      "Epoch 2 of 30 took 11.152s\n",
      "\t  training loss: 1.239933\n",
      "\tvalidation loss: 0.839363\n",
      "\tvalidation accuracy: 0.696\n",
      "Epoch 3 of 30 took 11.207s\n",
      "\t  training loss: 0.921032\n",
      "\tvalidation loss: 0.672703\n",
      "\tvalidation accuracy: 0.753\n",
      "Epoch 4 of 30 took 11.284s\n",
      "\t  training loss: 0.779526\n",
      "\tvalidation loss: 0.596036\n",
      "\tvalidation accuracy: 0.761\n",
      "Epoch 5 of 30 took 11.401s\n",
      "\t  training loss: 0.694157\n",
      "\tvalidation loss: 0.541359\n",
      "\tvalidation accuracy: 0.795\n",
      "Epoch 6 of 30 took 11.309s\n",
      "\t  training loss: 0.638054\n",
      "\tvalidation loss: 0.504515\n",
      "\tvalidation accuracy: 0.810\n",
      "Epoch 7 of 30 took 11.432s\n",
      "\t  training loss: 0.595259\n",
      "\tvalidation loss: 0.476577\n",
      "\tvalidation accuracy: 0.829\n",
      "Epoch 8 of 30 took 11.456s\n",
      "\t  training loss: 0.560277\n",
      "\tvalidation loss: 0.458639\n",
      "\tvalidation accuracy: 0.837\n",
      "Epoch 9 of 30 took 11.339s\n",
      "\t  training loss: 0.533509\n",
      "\tvalidation loss: 0.442089\n",
      "\tvalidation accuracy: 0.846\n",
      "Epoch 10 of 30 took 11.631s\n",
      "\t  training loss: 0.508103\n",
      "\tvalidation loss: 0.428058\n",
      "\tvalidation accuracy: 0.852\n",
      "Epoch 11 of 30 took 11.320s\n",
      "\t  training loss: 0.493505\n",
      "\tvalidation loss: 0.413567\n",
      "\tvalidation accuracy: 0.856\n",
      "Epoch 12 of 30 took 11.236s\n",
      "\t  training loss: 0.477465\n",
      "\tvalidation loss: 0.410609\n",
      "\tvalidation accuracy: 0.860\n",
      "Epoch 13 of 30 took 11.436s\n",
      "\t  training loss: 0.467412\n",
      "\tvalidation loss: 0.403311\n",
      "\tvalidation accuracy: 0.864\n",
      "Epoch 14 of 30 took 11.564s\n",
      "\t  training loss: 0.454979\n",
      "\tvalidation loss: 0.394812\n",
      "\tvalidation accuracy: 0.867\n",
      "Epoch 15 of 30 took 11.861s\n",
      "\t  training loss: 0.439661\n",
      "\tvalidation loss: 0.385666\n",
      "\tvalidation accuracy: 0.869\n",
      "Epoch 16 of 30 took 11.805s\n",
      "\t  training loss: 0.431559\n",
      "\tvalidation loss: 0.386420\n",
      "\tvalidation accuracy: 0.869\n",
      "Epoch 17 of 30 took 11.531s\n",
      "\t  training loss: 0.421497\n",
      "\tvalidation loss: 0.374656\n",
      "\tvalidation accuracy: 0.871\n",
      "Epoch 18 of 30 took 11.672s\n",
      "\t  training loss: 0.413891\n",
      "\tvalidation loss: 0.373066\n",
      "\tvalidation accuracy: 0.875\n",
      "Epoch 19 of 30 took 11.283s\n",
      "\t  training loss: 0.408520\n",
      "\tvalidation loss: 0.374434\n",
      "\tvalidation accuracy: 0.875\n",
      "Epoch 20 of 30 took 11.696s\n",
      "\t  training loss: 0.396960\n",
      "\tvalidation loss: 0.364762\n",
      "\tvalidation accuracy: 0.875\n",
      "Epoch 21 of 30 took 11.629s\n",
      "\t  training loss: 0.391485\n",
      "\tvalidation loss: 0.363721\n",
      "\tvalidation accuracy: 0.879\n",
      "Epoch 22 of 30 took 11.396s\n",
      "\t  training loss: 0.386755\n",
      "\tvalidation loss: 0.362753\n",
      "\tvalidation accuracy: 0.877\n",
      "Epoch 23 of 30 took 11.508s\n",
      "\t  training loss: 0.380377\n",
      "\tvalidation loss: 0.365956\n",
      "\tvalidation accuracy: 0.877\n",
      "Epoch 24 of 30 took 11.517s\n",
      "\t  training loss: 0.375076\n",
      "\tvalidation loss: 0.360220\n",
      "\tvalidation accuracy: 0.879\n",
      "Epoch 25 of 30 took 11.537s\n",
      "\t  training loss: 0.370152\n",
      "\tvalidation loss: 0.357440\n",
      "\tvalidation accuracy: 0.879\n",
      "Epoch 26 of 30 took 11.382s\n",
      "\t  training loss: 0.364621\n",
      "\tvalidation loss: 0.355372\n",
      "\tvalidation accuracy: 0.879\n",
      "Epoch 27 of 30 took 11.423s\n",
      "\t  training loss: 0.357175\n",
      "\tvalidation loss: 0.353939\n",
      "\tvalidation accuracy: 0.879\n",
      "Epoch 28 of 30 took 11.521s\n",
      "\t  training loss: 0.355182\n",
      "\tvalidation loss: 0.347728\n",
      "\tvalidation accuracy: 0.885\n",
      "Epoch 29 of 30 took 11.344s\n",
      "\t  training loss: 0.354076\n",
      "\tvalidation loss: 0.353033\n",
      "\tvalidation accuracy: 0.881\n",
      "Epoch 30 of 30 took 11.432s\n",
      "\t  training loss: 0.350368\n",
      "\tvalidation loss: 0.343966\n",
      "\tvalidation accuracy: 0.882\n"
     ]
    }
   ],
   "source": [
    "n_epochs = 30\n",
    "\n",
    "train_loss, val_loss, val_accuracy = train_model(model, train_loader, test_loader, loss_func, opt, n_epochs)"
   ]
  },
  {
   "cell_type": "code",
   "execution_count": null,
   "metadata": {
    "cellId": "n8qcgprwchhu0lqfh2taid",
    "execution_id": "9025d1ed-eb98-4c5b-8322-8247fc65fe49"
   },
   "outputs": [
    {
     "data": {
      "image/png": "[encoded data removed]",
      "text/plain": [
       "<Figure size 1080x360 with 2 Axes>"
      ]
     },
     "metadata": {
      "needs_background": "light"
     },
     "output_type": "display_data"
    }
   ],
   "source": [
    "plot_train_process(train_loss, val_loss, val_accuracy)"
   ]
  },
  {
   "cell_type": "markdown",
   "metadata": {
    "cellId": "xqshckdusviffq4fhnaaa",
    "execution_id": "5cc17825-935a-4efc-93e1-820318421fc1"
   },
   "source": [
    "Удалось подобрать такую архитектуру, при которой  модель на трейне и тесте дает одинаковые результаты, стабилизируясь на точность 0.88 (видимо, это предел точности для полносязной архитектуры, д) - это значит, что мы смогли извлечь информацию из данных в обучении, но при этом не даем модели переобучиться. Из трех моделей в данной работе эта самая оптимальная и результат точности на валидации это подтверждает."
   ]
  },
  {
   "cell_type": "markdown",
   "metadata": {
    "cellId": "yqlygvkodln0e7g31yws9df",
    "execution_id": "b8befd07-68db-4553-a714-9f49d9c1a139",
    "id": "dMui_uLJ7G0d",
    "pycharm": {
     "name": "#%% md\n"
    }
   },
   "source": [
    "### Conclusions:\n",
    "В данной работе мы решали задачу классификации на 10 классов для изображений с помощью полносвязной архитектуры сети с использованием таких приемов как батч-нормализация, дропаут и нелинейность, а также варьируя шаг обучения\n",
    "\n",
    "1) батч-нормализация нужна, если у нас много слоев для стабилизации вычислений градиента и для ускорения сходимости (но у нас слоев немного, поэтому существенного вляиния на качество я не заметила)\n",
    "\n",
    "2) Дропаут - средство борьбы с переуобучением, работает эффективно, я убирала половину связей случайным образом после каждого слоя для того, чтобы модель не запоминала данные в трейне, а старалась выявить ообщающие закономерности\n",
    "\n",
    "3) Шаг обучения в данной работе существенно влиял на сходимость. Во 2 части, где нужно было добиться переобчения когда я поставила шаг в 0.001 модель вообще перестала учиться, а при 0.1 случилось очевидное переобучение.\n",
    "\n",
    "4) Пробовала другие виды нелинейности, если честно, особой разницы не заметила\n",
    "\n",
    "\n"
   ]
  }
 ],
 "metadata": {
  "accelerator": "GPU",
  "colab": {
   "gpuType": "V100",
   "machine_shape": "hm",
   "provenance": []
  },
  "language_info": {
   "codemirror_mode": {
    "name": "ipython",
    "version": 3
   },
   "file_extension": ".py",
   "mimetype": "text/x-python",
   "name": "python",
   "nbconvert_exporter": "python",
   "pygments_lexer": "ipython3",
   "version": "3.7.7"
  },
  "notebookId": "b106cf40-548b-4c51-a481-3453b43485e1",
  "notebookPath": "Machine_Learning/lab2/fromSasha/Lab2_DL_part2_overfitting.ipynb"
 },
 "nbformat": 4,
 "nbformat_minor": 4
}
