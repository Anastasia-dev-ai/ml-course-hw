{
 "cells": [
  {
   "cell_type": "markdown",
   "metadata": {
    "cellId": "zzseaklz79jgrfeugkcaxw"
   },
   "source": [
    "## Lab 2"
   ]
  },
  {
   "cell_type": "markdown",
   "metadata": {
    "cellId": "ozyn57wpei3o4ipcpye6l"
   },
   "source": [
    "### Part 3. Poetry generation\n",
    "\n",
    "Let's try to generate some poetry using RNNs. \n",
    "\n",
    "You have several choices here: \n",
    "\n",
    "* The Shakespeare sonnets, file `sonnets.txt` available in the notebook directory.\n",
    "\n",
    "* Роман в стихах \"Евгений Онегин\" Александра Сергеевича Пушкина. В предобработанном виде доступен по [ссылке](https://github.com/attatrol/data_sources/blob/master/onegin.txt).\n",
    "\n",
    "* Some other text source, if it will be approved by the course staff.\n",
    "\n",
    "Text generation can be designed in several steps:\n",
    "    \n",
    "1. Data loading.\n",
    "2. Dictionary generation.\n",
    "3. Data preprocessing.\n",
    "4. Model (neural network) training.\n",
    "5. Text generation (model evaluation).\n"
   ]
  },
  {
   "cell_type": "code",
   "execution_count": 156,
   "metadata": {
    "cellId": "e1vstjb82lha2jx0420vfd"
   },
   "outputs": [],
   "source": [
    "import string\n",
    "import os\n",
    "import numpy as np"
   ]
  },
  {
   "cell_type": "markdown",
   "metadata": {
    "cellId": "10j2f9hj5z5gknfu9s93y1",
    "execution_id": "328fbda0-1b37-402d-9899-f70319064b46"
   },
   "source": [
    "### Data loading: Shakespeare"
   ]
  },
  {
   "cell_type": "markdown",
   "metadata": {
    "cellId": "3zvvmn60tbtckxqn15p7qg",
    "execution_id": "1cbe098c-5cf7-412a-88d9-245c5b397da5"
   },
   "source": [
    "Shakespeare sonnets are awailable at this [link](http://www.gutenberg.org/ebooks/1041?msg=welcome_stranger). In addition, they are stored in the same directory as this notebook (`sonnetes.txt`). Simple preprocessing is already done for you in the next cell: all technical info is dropped."
   ]
  },
  {
   "cell_type": "code",
   "execution_count": 157,
   "metadata": {
    "cellId": "ch5fykhbhi5x0mpfsunp6m"
   },
   "outputs": [],
   "source": [
    "if not os.path.exists('sonnets.txt'):\n",
    "    !wget https://raw.githubusercontent.com/girafe-ai/ml-course/22f_basic/homeworks_basic/lab02_deep_learning/sonnets.txt\n",
    "\n",
    "with open('sonnets.txt', 'r') as iofile:\n",
    "    text = iofile.readlines()\n",
    "    \n",
    "TEXT_START = 45\n",
    "TEXT_END = -368\n",
    "text = text[TEXT_START : TEXT_END]\n",
    "assert len(text) == 2616"
   ]
  },
  {
   "cell_type": "code",
   "execution_count": 158,
   "metadata": {
    "cellId": "3j8jf8g1ozxem6ymh82eh9"
   },
   "outputs": [
    {
     "data": {
      "text/plain": [
       "['  From fairest creatures we desire increase,\\n']"
      ]
     },
     "execution_count": 158,
     "metadata": {},
     "output_type": "execute_result"
    }
   ],
   "source": [
    "text[:1]"
   ]
  },
  {
   "cell_type": "markdown",
   "metadata": {
    "cellId": "ps320flnqgjn8fbtkr3buj",
    "execution_id": "f23ff9e2-f35a-4f47-b6f3-d3e50116c1a2"
   },
   "source": [
    "In opposite to the in-class practice, this time we want to predict complex text. Let's reduce the complexity of the task and lowercase all the symbols.\n",
    "\n",
    "Now variable `text` is a list of strings. Join all the strings into one and lowercase it."
   ]
  },
  {
   "cell_type": "code",
   "execution_count": 159,
   "metadata": {
    "cellId": "7awzqlabfgva5ng99dya4"
   },
   "outputs": [
    {
     "name": "stdout",
     "output_type": "stream",
     "text": [
      "OK!\n"
     ]
    }
   ],
   "source": [
    "# Join all the strings into one and lowercase it\n",
    "# Put result into variable text.\n",
    "\n",
    "# Your great code here\n",
    "sonnets = \"\".join(text).lower()\n",
    "\n",
    "assert len(sonnets) == 100225, 'Are you sure you have concatenated all the strings?'\n",
    "assert not any([x in set(sonnets) for x in string.ascii_uppercase]), 'Uppercase letters are present'\n",
    "print('OK!')"
   ]
  },
  {
   "cell_type": "markdown",
   "metadata": {
    "cellId": "ssu8x6pf07szz69p1dq7",
    "execution_id": "6f316929-2865-4711-95d4-66a021ab064a"
   },
   "source": [
    "### Data loading: \"Евгений Онегин\"\n"
   ]
  },
  {
   "cell_type": "raw",
   "metadata": {
    "cellId": "20ot9br32dzbdnhe1f2m"
   },
   "source": [
    "Будем в этой лабе работать над генерацией поэзии на русском языке\n",
    "Не буду качать текст из этого источника, так как там французские вставки и много пробелов\n",
    "#!wget https://raw.githubusercontent.com/attatrol/data_sources/master/onegin.txt"
   ]
  },
  {
   "cell_type": "code",
   "execution_count": 160,
   "metadata": {
    "cellId": "tp55k6uiyinb307pc5cthu"
   },
   "outputs": [],
   "source": [
    "with open('evgeniy-onegin.txt', 'r') as iofile:\n",
    "    text = iofile.readlines()\n",
    "    \n",
    "text = [x.replace('\\t\\t', '') for x in text]"
   ]
  },
  {
   "cell_type": "code",
   "execution_count": 161,
   "metadata": {
    "cellId": "6dmozef8ubmbhmcmxhni8"
   },
   "outputs": [
    {
     "data": {
      "text/plain": [
       "['александр сергеевич пушкин\\n',\n",
       " 'евгений онегин\\n',\n",
       " 'роман в стихах\\n',\n",
       " '1\\n',\n",
       " 'мысля гордый свет забавить\\n']"
      ]
     },
     "execution_count": 161,
     "metadata": {},
     "output_type": "execute_result"
    }
   ],
   "source": [
    "text[:5]"
   ]
  },
  {
   "cell_type": "markdown",
   "metadata": {
    "cellId": "rb8zx3bo3xeqrcjsmxq4",
    "execution_id": "43a36f60-7b98-4b75-ab7c-ac359f2eac09"
   },
   "source": [
    "In opposite to the in-class practice, this time we want to predict complex text. Let's reduce the complexity of the task and lowercase all the symbols.\n",
    "\n",
    "Now variable `text` is a list of strings. Join all the strings into one and lowercase it."
   ]
  },
  {
   "cell_type": "code",
   "execution_count": 162,
   "metadata": {
    "cellId": "9876p4a4fwx8aqf0buk6"
   },
   "outputs": [],
   "source": [
    "# Join all the strings into one and lowercase it\n",
    "# Put result into variable text.\n",
    "\n",
    "onegin = \"\".join(text).lower()\n",
    "tokens = list(set(onegin))"
   ]
  },
  {
   "cell_type": "markdown",
   "metadata": {
    "cellId": "yfiaauh1xuflvqrxx3egz",
    "execution_id": "797ae278-634f-4d6d-ba15-850d3fe4a736"
   },
   "source": [
    "Create dictionary `token_to_idx = {<char>: <index>}` and dictionary `idx_to_token = {<index>: <char>}`"
   ]
  },
  {
   "cell_type": "code",
   "execution_count": 163,
   "metadata": {
    "cellId": "5291ns9ucw5a94956ebw1"
   },
   "outputs": [],
   "source": [
    "# dict <index>:<char>\n",
    "# Your great code here\n",
    "\n",
    "# dict <char>:<index>\n",
    "# Создадим 2 словаря для того, чтобы кодировать токены при переводе предложений в матрицу и обратно\n",
    "token_to_idx = {k: v for k, v in zip(tokens, range(len(tokens)))}\n",
    "idx_to_token = {k: v for k, v in zip(range(len(tokens)), tokens)}"
   ]
  },
  {
   "cell_type": "code",
   "execution_count": 164,
   "metadata": {
    "cellId": "ziielzd64zv1lxiizgln"
   },
   "outputs": [
    {
     "data": {
      "text/plain": [
       "44"
      ]
     },
     "execution_count": 164,
     "metadata": {},
     "output_type": "execute_result"
    }
   ],
   "source": [
    "len(token_to_idx)"
   ]
  },
  {
   "cell_type": "code",
   "execution_count": 165,
   "metadata": {
    "cellId": "wmiyt0vcz60aro3e7qupt"
   },
   "outputs": [
    {
     "data": {
      "text/plain": [
       "27"
      ]
     },
     "execution_count": 165,
     "metadata": {},
     "output_type": "execute_result"
    }
   ],
   "source": [
    "len(text[0])"
   ]
  },
  {
   "cell_type": "markdown",
   "metadata": {
    "cellId": "wdtn8u76hqdy1ujg5fzfjp",
    "execution_id": "d2709451-9eb3-4a8a-8bea-9ac140b5485c"
   },
   "source": [
    "Оценю распределение длин строк чтобы при генерации и кодировании использовать максмиальную длину как констранту"
   ]
  },
  {
   "cell_type": "code",
   "execution_count": 166,
   "metadata": {
    "cellId": "gy7mjfklp49ebwlft9apqv"
   },
   "outputs": [
    {
     "name": "stdout",
     "output_type": "stream",
     "text": [
      "max length = 555\n"
     ]
    },
    {
     "data": {
      "image/png": "[encoded data removed]",
      "text/plain": [
       "<Figure size 432x288 with 1 Axes>"
      ]
     },
     "metadata": {
      "needs_background": "light"
     },
     "output_type": "display_data"
    }
   ],
   "source": [
    "lens = [len(line) for line in text]\n",
    "\n",
    "MAX_LENGTH = max(lens)\n",
    "print(\"max length =\", MAX_LENGTH)\n",
    "\n",
    "plt.title('Sequence length distribution')\n",
    "plt.hist(lens,bins=5);"
   ]
  },
  {
   "cell_type": "code",
   "execution_count": 187,
   "metadata": {
    "cellId": "qp7950mka5mtbf7wgg9a98"
   },
   "outputs": [],
   "source": [
    "# Позиамствую с семинара код,который перевод предложение в индексы\n",
    "def to_matrix(sentences, max_len = None, dtype='int32', batch_first=True):\n",
    "    max_len = max_len or max(map(len, sentences))\n",
    "    sentences_ix = np.zeros([len(sentences), max_len], dtype)\n",
    "\n",
    "    for i in range(len(sentences)): \n",
    "        line_ix = [token_to_idx[c] for c in sentences[i]] \n",
    "        sentences_ix[i, :len(line_ix)] = line_ix[:max_len]\n",
    "    if not batch_first: \n",
    "        sentences_ix = np.transpose(sentences_ix) #Транспонируем\n",
    "\n",
    "    return sentences_ix"
   ]
  },
  {
   "cell_type": "code",
   "execution_count": 188,
   "metadata": {
    "cellId": "wnw6zjdwzrkpwy8vazd7jm"
   },
   "outputs": [
    {
     "data": {
      "text/plain": [
       "array([[13,  8, 20, 22, 23, 24, 10,  8, 14,  9, 11, 24, 22,  7,  8, 23,\n",
       "        19, 24, 22, 12,  7, 24, 32,  7]], dtype=int32)"
      ]
     },
     "execution_count": 188,
     "metadata": {},
     "output_type": "execute_result"
    }
   ],
   "source": [
    "to_matrix(['я помню чудное мгновенье'], max_len = None, dtype='int32', batch_first=True)"
   ]
  },
  {
   "cell_type": "markdown",
   "metadata": {
    "cellId": "yvsfqn6z3m6mxql3mn02h",
    "execution_id": "3c7a75b4-15b6-4532-ab80-76a37a825928"
   },
   "source": [
    "*Comment: in this task we have only 38 different tokens, so let's use one-hot encoding.*"
   ]
  },
  {
   "cell_type": "markdown",
   "metadata": {
    "cellId": "gkqr7c1dregtwxinrixg",
    "execution_id": "77c6ab7b-481f-4374-8154-077c14988875"
   },
   "source": [
    "### Building the model"
   ]
  },
  {
   "cell_type": "markdown",
   "metadata": {
    "cellId": "2wkn9xnqi1w1msbm13ylb",
    "execution_id": "adaa2b2b-1fab-4c31-9c47-314b8a10b39f"
   },
   "source": [
    "Now we want to build and train recurrent neural net which would be able to something similar to Shakespeare's poetry.\n",
    "\n",
    "Let's use vanilla RNN, similar to the one created during the lesson."
   ]
  },
  {
   "cell_type": "code",
   "execution_count": 193,
   "metadata": {
    "cellId": "sg4dqgnus1ew5tsoh9clxa"
   },
   "outputs": [],
   "source": [
    "import torch\n",
    "import torch.nn as nn\n",
    "import torchvision\n",
    "import torchvision.transforms as transforms\n",
    "import torch.nn.functional as F\n",
    "import torchsummary\n",
    "from IPython.display import clear_output\n",
    "from matplotlib import pyplot as plt\n",
    "from matplotlib.pyplot import figure\n",
    "import random\n",
    "device = 'cpu'"
   ]
  },
  {
   "cell_type": "code",
   "execution_count": 194,
   "metadata": {
    "cellId": "8nyqu2op62me1ngsjewqbh"
   },
   "outputs": [],
   "source": [
    "# Беру с лекции код, который описывает модель RNN и ее обучение (может он и не ванилла)\n",
    "# https://github.com/girafe-ai/ml-course/blob/master/week0_09_embeddings_and_seq2seq/week09_seq2seq_rnn_practice_solved.ipynb\n",
    "\n",
    "embed = nn.Embedding(4,2)\n",
    "sample = torch.LongTensor([2])\n",
    "next(embed.parameters())\n",
    "\n",
    "class CharRNNCell(nn.Module):\n",
    "    '''\n",
    "    Класс создает модель архитекуры RNN, \n",
    "    инициализирует начальное состояние скрытого слоя и задает правило для обучения\n",
    "    '''\n",
    "    def __init__(self, num_tokens=len(tokens), embedding_size=64, rnn_num_units=512):\n",
    "        super(self.__class__,self).__init__()\n",
    "        self.num_units = rnn_num_units\n",
    "        self.embedding = nn.Embedding(num_tokens, embedding_size)\n",
    "        self.rnn_update = nn.Linear(embedding_size + rnn_num_units, rnn_num_units)\n",
    "        self.rnn_to_logits = nn.Linear(rnn_num_units, num_tokens) \n",
    "        \n",
    "    def forward(self, x, h_prev):\n",
    "        #Преобразуем каждый токен в вектор эмбеддингов\n",
    "        x_emb = self.embedding(x)\n",
    "        #Тут работает реккурентность - соединяем эмбеддинг текущего токена со скрытым состочнием,\n",
    "        #накопленным на предыдущем шаге\n",
    "        x_and_h = torch.cat([x_emb.to(device), h_prev.to(device)], dim=-1)\n",
    "        h_next = self.rnn_update(x_and_h)\n",
    "        #нелинейность\n",
    "        h_next = torch.tanh(h_next)\n",
    "        #логиты = еще одна нелинейность для получения вероятностей\n",
    "        logits = self.rnn_to_logits(h_next) \n",
    "        return h_next, F.log_softmax(logits, -1) \n",
    "        \n",
    "    \n",
    "    def initial_state(self, batch_size): #Инициализация hidden_state_{0}  \n",
    "        return torch.zeros(batch_size, self.num_units, device=device, requires_grad=True)"
   ]
  },
  {
   "cell_type": "code",
   "execution_count": 195,
   "metadata": {
    "cellId": "nz3ykxb0v1rkbtgz328r5g"
   },
   "outputs": [],
   "source": [
    "char_rnn = CharRNNCell()\n",
    "criterion = nn.NLLLoss()\n",
    "opt = torch.optim.Adam(char_rnn.parameters(), lr=1e-3) # такой стандарный lr возьмем для обеих моделей \n",
    "\n",
    "def rnn_loop(char_rnn, batch_ix):\n",
    "    batch_size, _ = batch_ix.size()\n",
    "    hid_state = char_rnn.initial_state(batch_size)\n",
    "    logprobs = []\n",
    "\n",
    "    for x_t in batch_ix.transpose(0, 1):\n",
    "        hid_state, logp_next = char_rnn(x_t, hid_state)\n",
    "        logprobs.append(logp_next) \n",
    "    return torch.stack(logprobs, dim=1) "
   ]
  },
  {
   "cell_type": "markdown",
   "metadata": {
    "cellId": "m31nhs2coobatlnmpk1j08",
    "execution_id": "833bec8f-0ca0-47af-8014-76597ab00f31"
   },
   "source": [
    "Plot the loss function (axis X: number of epochs, axis Y: loss function)."
   ]
  },
  {
   "cell_type": "code",
   "execution_count": 196,
   "metadata": {
    "cellId": "ltwdkihlh55dqeeavwh44"
   },
   "outputs": [
    {
     "data": {
      "image/png": "[encoded data removed]",
      "text/plain": [
       "<Figure size 432x288 with 1 Axes>"
      ]
     },
     "metadata": {
      "needs_background": "light"
     },
     "output_type": "display_data"
    }
   ],
   "source": [
    "loss_history = []\n",
    "\n",
    "for i in range(6000): #6000 эпох возьмем для обеих моделей\n",
    "    sub_str = []\n",
    "    \n",
    "    # собираем каждый батч - берем подвыборку из случайного места длиной MAX_LENGTH (беру большие куски текста подряд, чтобы научить модель выдавать осмысленный текст)\n",
    "    \n",
    "    idx = random.randrange(0, len(onegin) - MAX_LENGTH + 1)        \n",
    "    sub_str.append(onegin[idx : (idx + MAX_LENGTH)]) \n",
    "    \n",
    "    batch_ix = to_matrix(sub_str, max_len=MAX_LENGTH)\n",
    "    batch_ix = torch.tensor(batch_ix, dtype=torch.int64)\n",
    "    \n",
    "    logp_seq = rnn_loop(char_rnn, batch_ix)\n",
    "    \n",
    "    predictions_logp = logp_seq[:, :-1]\n",
    "    actual_next_tokens = batch_ix[:, 1:]\n",
    "    loss = criterion(predictions_logp.contiguous().view(-1, len(tokens)), actual_next_tokens.contiguous().view(-1))\n",
    "    \n",
    "    loss.backward()\n",
    "    opt.step()\n",
    "    opt.zero_grad()\n",
    "        \n",
    "    loss_history.append(loss.data.cpu().numpy())\n",
    "    if (i + 1) % 100 == 0:\n",
    "        clear_output(True)\n",
    "        plt.plot(loss_history)\n",
    "        plt.xlabel('epochs')\n",
    "        plt.ylabel('loss')\n",
    "        plt.show()"
   ]
  },
  {
   "cell_type": "markdown",
   "metadata": {
    "cellId": "go7izuezsqwdtyjf1y7icn",
    "execution_id": "c0cfbc36-a8f9-4821-9885-2aada87b93b2"
   },
   "source": [
    "Визуально видно, что модель обучается, хотя есть существенные колебания от батча к батчу. В итоге после 6000 тыс эпох лосс на уровне 1."
   ]
  },
  {
   "cell_type": "code",
   "execution_count": 197,
   "metadata": {
    "cellId": "8857vz70pbm7veymtq373h"
   },
   "outputs": [],
   "source": [
    "seed_phrase = 'я помню чудное мгновенье'\n",
    "#MAX_LENGTH = 555\n",
    "def generate_sample(char_rnn, seed_phrase=seed_phrase, max_length=MAX_LENGTH, temperature=1.0):\n",
    "    '''\n",
    "    ### Disclaimer: this is an example function for text generation.\n",
    "    ### You can either adapt it in your code or create your own function\n",
    "    \n",
    "    The function generates text given a phrase of length at least SEQ_LENGTH.\n",
    "    :param seed_phrase: prefix characters. The RNN is asked to continue the phrase\n",
    "    :param max_length: maximum output length, including seed_phrase\n",
    "    :param temperature: coefficient for sampling.  higher temperature produces more chaotic outputs, \n",
    "        smaller temperature converges to the single most likely output.\n",
    "        \n",
    "    Be careful with the model output. This model waits logits (not probabilities/log-probabilities)\n",
    "    of the next symbol.\n",
    "    '''\n",
    "    x_sequence = [token_to_idx[token] for token in seed_phrase] \n",
    "    x_sequence = torch.tensor([x_sequence], dtype=torch.int64).to(device) \n",
    "    hid_state = char_rnn.initial_state(batch_size=1)\n",
    "    \n",
    "    \n",
    "    for i in range(len(seed_phrase) - 1):\n",
    "        hid_state, out = char_rnn(x_sequence[:, i], hid_state)\n",
    "    \n",
    "    for _ in range(max_length - len(seed_phrase)):\n",
    "        hid_state, out = char_rnn(x_sequence[:, -1], hid_state) \n",
    "        p_next = F.softmax(out / temperature, dim=-1).data.cpu().numpy()[0]        \n",
    "        next_ix = np.random.choice(len(tokens), p=p_next)        \n",
    "        next_ix = torch.tensor([[next_ix]], dtype=torch.int64).to(device)        \n",
    "        x_sequence = torch.cat([x_sequence, next_ix], dim=1) \n",
    "   \n",
    "    result = ''.join([tokens[ix] for ix in x_sequence.data.cpu().numpy()[0] if tokens[ix] != \"_\"])\n",
    "    \n",
    "    return result"
   ]
  },
  {
   "cell_type": "code",
   "execution_count": 198,
   "metadata": {
    "cellId": "frbtkt889bqfkbqh5qem77"
   },
   "outputs": [
    {
     "name": "stdout",
     "output_type": "stream",
     "text": [
      "я помню чудное мгновенье\n",
      "как падвееная злостям\n",
      "в ней гатело ей злокиц\n",
      "из полдень много броша к том55\n",
      "зареметы молодых раставлись\n",
      "как страх пофолное толким\n",
      "ведина быть она тихотовушал\n",
      "примодной сам сид иной дни\n",
      "такопусь от в общий решено\n",
      "иль сказал уж желания\n",
      "перенесено ей вашей укружена\n",
      "вот это ж она женских был\n",
      "по клоки тайные лиским\n",
      "нило к тахной и двора\n",
      "их отдара шавло б татьяне\n",
      "но познел воспелкее мученья\n",
      "хотя кровлощи скаль тисок\n",
      "и окнам рад идет она\n",
      "пора его нежный уморы\n",
      "и радовенное тутя света\n",
      "меня о\n"
     ]
    }
   ],
   "source": [
    "# An example of generated text.\n",
    "print(generate_sample(char_rnn, seed_phrase='я помню чудное мгновенье'))"
   ]
  },
  {
   "cell_type": "markdown",
   "metadata": {
    "cellId": "g2e67z2c6z7vwpzt3yt339",
    "execution_id": "95de4d6e-bf7f-470c-bd66-41eee110f053"
   },
   "source": [
    "Обсуждение результатов:\n",
    "\n",
    "1. Цифры внтури текста, модель не выучила, что цифра разделяют строфы (правда только 1 раз)\n",
    "\n",
    "2. Вообще это не похоже не кашу из букв, есть как реальные слова, так и вымышленные, но осмысленного текста не получилось.\n",
    "\n",
    "3. Длина строки +- стабильная и похоже на Пушкина.\n",
    "\n",
    "Пробовала по-разному дорабатывать модель, например, пробовала убирать софтмакс на выходе, так как прочитала, что  внутри NLLLoss уже усть софтмакс, а Радослав на лекции говорил, что два софтмакса ухудшают способность к обучению. Но появлялись отрицательные значения лосса на обучении, поэтому софтмакс вернула. Хорошо сказалось на качестве генерации решение брать для батча подвыборку подряд, а не собирать из разных кусочков - выравнялся размер строки, каша из букв превратилась в слова.\n",
    "Возможные причины невысоко качества модели: мало данных (только Евгений Онегин) и модель слишком простая, чтобы уловить паттерны русского языка"
   ]
  },
  {
   "cell_type": "markdown",
   "metadata": {
    "cellId": "tf0xdbq9qxjfujaxid4ffv",
    "execution_id": "c6f2c523-33f7-4463-9f1d-b6bacd642116"
   },
   "source": [
    "### More poetic model\n",
    "\n",
    "Let's use LSTM instead of vanilla RNN and compare the results."
   ]
  },
  {
   "cell_type": "markdown",
   "metadata": {
    "cellId": "pi1jqukwbzz6up1lj1kvg",
    "execution_id": "4dfcfb36-e7a6-41af-911a-38a544e27ba2"
   },
   "source": [
    "Plot the loss function of the number of epochs. Does the final loss become better?"
   ]
  },
  {
   "cell_type": "code",
   "execution_count": 199,
   "metadata": {
    "cellId": "mc3wyaekisci8rlzscat98"
   },
   "outputs": [],
   "source": [
    "# Your beautiful code here\n",
    "class CharLSTMCell(nn.Module):\n",
    "    def __init__(self, num_tokens=len(tokens), emb_size=64, lstm_num_units=512):\n",
    "        super(self.__class__, self).__init__()\n",
    "        self.num_units = lstm_num_units \n",
    "        self.emb = nn.Embedding(len(tokens), emb_size) \n",
    "        self.lstm = nn.LSTM(emb_size, self.num_units, batch_first=True)\n",
    "        self.hid_to_logits = nn.Linear(self.num_units, num_tokens) \n",
    "\n",
    "    def forward(self, x, hidden=None):\n",
    "        h_seq, hidden = self.lstm(self.emb(x), hidden)\n",
    "        next_logits = self.hid_to_logits(h_seq)\n",
    "        next_logp = F.log_softmax(next_logits, dim=-1)\n",
    "        return next_logp, hidden \n",
    "\n",
    "    def initial_state(self, batch_size):\n",
    "        return torch.zeros(batch_size, self.num_units, device=device, requires_grad=True)"
   ]
  },
  {
   "cell_type": "code",
   "execution_count": 200,
   "metadata": {
    "cellId": "epwzppropbsouigg4lzav"
   },
   "outputs": [],
   "source": [
    "char_lstm = CharLSTMCell().to(device)\n",
    "criterion = nn.NLLLoss()\n",
    "opt = torch.optim.Adam(char_lstm.parameters(), lr=1e-3)"
   ]
  },
  {
   "cell_type": "code",
   "execution_count": 201,
   "metadata": {
    "cellId": "1x1902jzyaaqf3lxkcfdgb"
   },
   "outputs": [
    {
     "data": {
      "image/png": "[encoded data removed]",
      "text/plain": [
       "<Figure size 432x288 with 1 Axes>"
      ]
     },
     "metadata": {
      "needs_background": "light"
     },
     "output_type": "display_data"
    }
   ],
   "source": [
    "lstm_loss_history = []\n",
    "\n",
    "for i in range(6000): \n",
    "    sub_str = []\n",
    "    # собираем каждый батч - берем подвыборку из случайного места длиной MAX_LENGTH\n",
    "    idx = random.randrange(0, len(onegin) - MAX_LENGTH + 1)        \n",
    "    sub_str.append(onegin[idx : (idx + MAX_LENGTH)]) \n",
    "    \n",
    "    batch_ix = to_matrix(sub_str, max_len=MAX_LENGTH)\n",
    "    batch_ix = torch.tensor(batch_ix, dtype=torch.int64)\n",
    "    \n",
    "    logp_seq, _ = char_lstm(batch_ix) \n",
    "    \n",
    "    predictions_logp = logp_seq[:, :-1] \n",
    "    actual_next_tokens = batch_ix[:, 1:]\n",
    "    #подсчёт лосса\n",
    "    loss = criterion(predictions_logp.contiguous().view(-1, len(tokens)), actual_next_tokens.contiguous().view(-1))\n",
    "    \n",
    "    loss.backward()\n",
    "    opt.step()\n",
    "    opt.zero_grad()\n",
    "    loss_value = loss.data.cpu().numpy()\n",
    "    \n",
    "    lstm_loss_history.append(loss.data.cpu().numpy())\n",
    "    if (i + 1) % 100 == 0:\n",
    "        clear_output(True)\n",
    "        plt.plot(lstm_loss_history)\n",
    "        plt.xlabel('epochs')\n",
    "        plt.ylabel('loss')\n",
    "        plt.show()"
   ]
  },
  {
   "cell_type": "markdown",
   "metadata": {
    "cellId": "5rdn1j1j47nq3450q9fxnq",
    "execution_id": "31d8efa9-5704-42f8-87ee-b4b939d97c6e"
   },
   "source": [
    "Характер сходимости модели (снижение лосса) примерно такой же, как у RNN, но более плавный, вспелексов и расхождений нет, абсолютное значение ошибки на 6000 эпох меньше - модель лучше обучилась, лосс меньше 0.5. Сравним, влияет ли это положительно на результаты генерации"
   ]
  },
  {
   "cell_type": "markdown",
   "metadata": {
    "cellId": "4z4evimrqwffks12cusboa",
    "execution_id": "c4562ecd-c0f5-4a9a-8148-916929cdf79a"
   },
   "source": [
    "Generate text using the trained net with different `temperature` parameter: `[0.1, 0.2, 0.5, 1.0, 2.0]`.\n",
    "\n",
    "Evaluate the results visually, try to interpret them."
   ]
  },
  {
   "cell_type": "code",
   "execution_count": 202,
   "metadata": {
    "cellId": "vm1xh5di5y8jshr3gjaka"
   },
   "outputs": [],
   "source": [
    "seed_phrase='я помню чудное мгновение'\n",
    "def generate_sample_lstm(char_lstm, seed_phrase=seed_phrase, max_length=555, temperature=1.0):\n",
    "    x_sequence = [token_to_idx[token] for token in seed_phrase]\n",
    "    x_sequence = torch.tensor([x_sequence], dtype=torch.int64).to(device)\n",
    "    \n",
    "    h_state = torch.zeros(1, 1, char_lstm.num_units, device=device) \n",
    "    c_state = torch.zeros(1, 1, char_lstm.num_units, device=device) \n",
    "\n",
    "    \n",
    "    for i in range(len(seed_phrase) - 1):\n",
    "        _, (h_state, c_state) = char_lstm(x_sequence[:, i].unsqueeze(0), (h_state, c_state))\n",
    "\n",
    "    for i in range(max_length - len(seed_phrase)):\n",
    "        logits, (h_state, c_state) = char_lstm(x_sequence[:, -1].unsqueeze(0), (h_state, c_state))\n",
    "        p_next = F.softmax(logits / temperature, dim=-1).data.cpu().numpy()[0]\n",
    "        next_ix = np.random.choice(len(tokens), p=p_next.ravel())\n",
    "        next_ix = torch.tensor([[next_ix]], dtype=torch.int64).to(device)\n",
    "        x_sequence = torch.cat([x_sequence, next_ix], dim=1)\n",
    "\n",
    "    result = ''.join([tokens[ix] for ix in x_sequence.data.cpu().numpy()[0] if tokens[ix] != \"_\"])\n",
    "    return result"
   ]
  },
  {
   "cell_type": "code",
   "execution_count": 203,
   "metadata": {
    "cellId": "vg91raen6u9fqihgnmoas5"
   },
   "outputs": [
    {
     "name": "stdout",
     "output_type": "stream",
     "text": [
      "Temp 0.1\n",
      " я помню чудное мгновенье\n",
      "не ты ль с отрадой и любовью\n",
      "слова надежды мне нет его\n",
      "и страсбургский бразда его\n",
      "и пел и страсть его лежит\n",
      "погибну таня гостит\n",
      "а между тем две три страницы\n",
      "пустые бредни небылицы\n",
      "опасные для сердца дев\n",
      "он пропусь на свете надоел\n",
      "и все отволясь в наши дни\n",
      "что охна на наше дальной\n",
      "увилься в вашах флагородный\n",
      "короткий вызов иль картель\n",
      "учтиво с ясностью холодной\n",
      "звал друга ленский на дуэль\n",
      "онегин с первого движенья\n",
      "к послу такого порученья\n",
      "оборотясь без трудов деле\n",
      "и начилась их собранье\n",
      "где прыграммать не могла\n",
      "лишь смертной \n"
     ]
    }
   ],
   "source": [
    "# Text generation with different temperature values here\n",
    "result = generate_sample_lstm(char_lstm, seed_phrase='я помню чудное мгновенье', max_length=555, temperature=0.1)\n",
    "print('Temp 0.1\\n', result)"
   ]
  },
  {
   "cell_type": "code",
   "execution_count": 204,
   "metadata": {
    "cellId": "nk9tqe38v57o0sqg051d5"
   },
   "outputs": [
    {
     "name": "stdout",
     "output_type": "stream",
     "text": [
      "Temp 0.2\n",
      " я помню чудное мгновенье\n",
      "не ты ль с отрадой и любовью\n",
      "слово лаской замечу бело\n",
      "но мне теперь не до него\n",
      "лета к суровой прозе клонят\n",
      "лета шалунью рифму гонят\n",
      "и я со вздохом признаюсь\n",
      "за ней ленивей волочусь\n",
      "перу старинной нет охоты\n",
      "марать летучие листы\n",
      "другие хладные моды\n",
      "наука не преданьям стремны\n",
      "все в них на старый образец\n",
      "у тетушки княжны елены\n",
      "все тот же ль он иль светит ей\n",
      "но кушать он и пера\n",
      "и слез и рифм\n",
      "представь меня ты шутишь нету\n",
      "я рад когда же хоть сейчас\n",
      "они с оставленные креты\n",
      "порывы девственным огнем\n",
      "чуть отрок от него любезна\n",
      "я не ро\n"
     ]
    }
   ],
   "source": [
    "result = generate_sample_lstm(char_lstm, seed_phrase='я помню чудное мгновенье', max_length=555, temperature=0.2)\n",
    "print('Temp 0.2\\n', result)"
   ]
  },
  {
   "cell_type": "code",
   "execution_count": 205,
   "metadata": {
    "cellId": "u3nmppjn1jnr9cuh9wxl9"
   },
   "outputs": [
    {
     "name": "stdout",
     "output_type": "stream",
     "text": [
      "Temp 0.5\n",
      " я помню чудное мгновенье\n",
      "не знаю прелестью своей\n",
      "она как ландыш потаешь коня\n",
      "ну то мой жизни поколом\n",
      "вдали веков сердечных друг\n",
      "приятный жребий повелей\n",
      "все тот же трепетной рукой\n",
      "одежды край подметился мил\n",
      "и после мог он пеньем\n",
      "был простой упрямые снова\n",
      "по трубках в бедный любимые\n",
      "все полно и что ж ейей\n",
      "певерный в бранта не хотел\n",
      "доверчивость души невине\n",
      "и постелий рочки на дихне\n",
      "давал он что ж его лету\n",
      "как мы ни билось другом\n",
      "когда ж начну я вольный бег\n",
      "пора покинуть скучный брег\n",
      "мне не находит горем\n",
      "и все евгений на уме\n",
      "и в ней и блажен хоть невин\n"
     ]
    }
   ],
   "source": [
    "result = generate_sample_lstm(char_lstm, seed_phrase='я помню чудное мгновенье', max_length=555, temperature=0.5)\n",
    "print('Temp 0.5\\n', result)"
   ]
  },
  {
   "cell_type": "code",
   "execution_count": 206,
   "metadata": {
    "cellId": "ftj3ze1k6uja80c6cpekyr"
   },
   "outputs": [
    {
     "name": "stdout",
     "output_type": "stream",
     "text": [
      "Temp 1.0\n",
      " я помню чудное мгновенье\n",
      "не ты ля мне бьют толпа был друзья\n",
      "поднять основленной ленский\n",
      "весна слушала с ольгою столов\n",
      "непрясь своей заблужительных\n",
      "непоступил с уж и везде женой\n",
      "и безореду творе лицу\n",
      "потобой мне читатель мой\n",
      "заняться стал со сквозь собой\n",
      "иль вечный каминар и путьм\n",
      "веселью что евгений\n",
      "он вечно ты жена и света\n",
      "красавиц модных модных чув\n",
      "в балашенья плененный шум\n",
      "когда безмолвно юним своим\n",
      "унижу ли страстной девы\n",
      "с ней оборотельно оред\n",
      "и край одежды целовамой\n",
      "вдруг мысль в журной и своей\n",
      "для гости вслед зарецкий романа\n",
      "в остохот бродить\n"
     ]
    }
   ],
   "source": [
    "result = generate_sample_lstm(char_lstm, seed_phrase='я помню чудное мгновенье', max_length=555, temperature=1.0)\n",
    "print('Temp 1.0\\n', result)"
   ]
  },
  {
   "cell_type": "code",
   "execution_count": 207,
   "metadata": {
    "cellId": "gvojo712bofcien2ecf2r"
   },
   "outputs": [
    {
     "name": "stdout",
     "output_type": "stream",
     "text": [
      "Temp 2.0\n",
      " я помню чудное мгновеньем\n",
      "его ревом спремлющей\n",
      "вражду оперсего мельку\n",
      "чтоб тосне тогскосет\n",
      "не холить в земле рав нед\n",
      "окнемся никогда спатиной\n",
      "это быша тень беспечно\n",
      "а тимя свится ходпля слова\n",
      "пора поътынные вскук\n",
      "пугами живло онегин вмосленная\n",
      "дуашикок мнерим индевь\n",
      "да что сплинук плетит а23\n",
      "он одекстов жребием племять с дерьмгицое\n",
      "играми хезжает5 одугин двурный лац\n",
      "на алки машурю вновь\n",
      "яна\n",
      "ужизнь обы был ды жада\n",
      "места\n",
      "уж чайдеки5 времяти неслик\n",
      "он подибать ня ушлых лет\n",
      "тая беспошла по молвую\n",
      "умиленья взвесены\n",
      "и невсем ручею думотой\n",
      "узнало вряз найм\n"
     ]
    }
   ],
   "source": [
    "result = generate_sample_lstm(char_lstm, seed_phrase='я помню чудное мгновенье', max_length=555, temperature=2.0)\n",
    "print('Temp 2.0\\n', result)"
   ]
  },
  {
   "cell_type": "markdown",
   "metadata": {
    "cellId": "4bd6vubx348bw4eu3pze2v",
    "execution_id": "0ab5e3c9-c930-4293-8880-140dea5a8e45"
   },
   "source": [
    "Обсуждение результатов генерации lstm моделт:\n",
    "\n",
    "1. Размер строки досточно стабильный, похожий на Пушкина (то есть вероятностное распределение на PAD неплохо лучше обучено, как и у RNN)\n",
    "\n",
    "2. Появилась структура исходного текста - строфы, разделенные числами\n",
    "\n",
    "3. Слова как правило существующие, иногда придуманное, но по правилам русского языка. Но смысла в фразах все еще мало("
   ]
  },
  {
   "cell_type": "markdown",
   "metadata": {
    "cellId": "7u6cq2p6hrib3sezyuyfcc",
    "execution_id": "283ce47c-d232-4ca0-8f7f-9acd905e17c3"
   },
   "source": [
    "Выводы:\n",
    "1) Модель RNN и LSTM обучались на одинаковых данных с одинаковым числом эпох и шагом обучения.\n",
    "При этом если сравнивать результат генерации ни одна не дотягивает до \"второго Пушкина\", но однако у LSTM получился меньше лосс, что можно связать с улучшением качества генерации (Иногда строчка-две бывают прямо как из Онегина, если дать больше данных, то может и обучится неплохо). Похоже на \"хливкие шорьки\" у Льюиса Керролла)\n",
    "\n",
    "2) Влияние температуры на результат генерации следующий: при низкой температуре модель выдает реально существующие слова или слова выдуманные, но составленные по правилам русского языка (можно угадать часть речи).\n",
    "При повышении температуры генерация становится более рандомной, а именно: у нас с большей вероятностью выберется символ с не максимальным логитом. При использовании LLM повышение температуры"
   ]
  },
  {
   "cell_type": "markdown",
   "metadata": {
    "cellId": "64douvr6bb6d043o9uw6dp",
    "execution_id": "27d3956a-f345-4ee5-bf97-4ad79983a6e7"
   },
   "source": [
    "### Saving and loading models"
   ]
  },
  {
   "cell_type": "markdown",
   "metadata": {
    "cellId": "rl1spjvnxln66f6towkac",
    "execution_id": "b167b774-fcc8-4356-8d30-c772047a5537"
   },
   "source": [
    "Save the model to the disk, then load it and generate text. Examples are available [here](https://pytorch.org/tutorials/beginner/saving_loading_models.html])."
   ]
  },
  {
   "cell_type": "code",
   "execution_count": 209,
   "metadata": {
    "cellId": "vl3hmkvvvveb4zma6iw4q"
   },
   "outputs": [
    {
     "name": "stdout",
     "output_type": "stream",
     "text": [
      "давай попробуем еще разбола\n",
      "затем что он все дворажденье\n",
      "одно девы простодушной\n",
      "что слезу приносят и грандистой\n",
      "под ним как начинает капать\n",
      "весенний дождь на свете недвижи\n",
      "да сам в деревню в том уверен\n",
      "и думать он меня любил\n",
      "он мне единой посвятил\n",
      "рассвет печальный жизни бурной\n",
      "сердечный друг желанный друг\n",
      "приятный жребий своей\n",
      "любви модных и без слова\n",
      "при как он ямбал и душа\n",
      "без слово дрожит в летей\n",
      "и свет ее с улыбкой встретил\n",
      "успех нас первый окрылил\n",
      "старик державин нас заметил\n",
      "и в молчаливом кабинете\n",
      "забыв на время все на свете\n",
      "осталась наконец \n"
     ]
    }
   ],
   "source": [
    "# Сохранение модели тоже беру у Радослава\n",
    "# Saving and loading code here\n",
    "torch.save(char_lstm.state_dict(), 'char_lstm.pth')\n",
    "\n",
    "new_lstm = CharLSTMCell()\n",
    "new_lstm.load_state_dict(torch.load('char_lstm.pth'))\n",
    "\n",
    "result = generate_sample_lstm(new_lstm, seed_phrase='давай попробуем еще раз', max_length=555, temperature=0.1)\n",
    "print(result)"
   ]
  },
  {
   "cell_type": "markdown",
   "metadata": {
    "cellId": "3b6agwce3laay5ih9yx43i",
    "execution_id": "c40bbd44-a712-4301-af50-10518730d4ec"
   },
   "source": [
    "Вообще задание очень интересное, но по мне - сложное. Потратила много времени, чтобы разобрать каждую строчку и разобраться с ошибками,которые все равно вылезают, хотя бОльшая часть кода берется из ноутбуков, которые были на лекции/семинаре."
   ]
  },
  {
   "cell_type": "markdown",
   "metadata": {
    "cellId": "vwh8n80ilkmzp6wp3tayi8",
    "execution_id": "5fe51f75-9b6b-466f-ab96-e30bf8486783"
   },
   "source": [
    "### References\n",
    "1. <a href='http://karpathy.github.io/2015/05/21/rnn-effectiveness/'> Andrew Karpathy blog post about RNN. </a> \n",
    "There are several examples of genration: Shakespeare texts, Latex formulas, Linux Sourse Code and children names.\n",
    "2. <a href='https://github.com/karpathy/char-rnn'> Repo with char-rnn code </a>\n",
    "3. Cool repo with PyTorch examples: [link](https://github.com/spro/practical-pytorch`)"
   ]
  },
  {
   "cell_type": "code",
   "execution_count": null,
   "metadata": {
    "cellId": "482m62l8t0nchshndljv5e"
   },
   "outputs": [],
   "source": []
  }
 ],
 "metadata": {
  "anaconda-cloud": {},
  "language_info": {
   "codemirror_mode": {
    "name": "ipython",
    "version": 3
   },
   "file_extension": ".py",
   "mimetype": "text/x-python",
   "name": "python",
   "nbconvert_exporter": "python",
   "pygments_lexer": "ipython3",
   "version": "3.7.7"
  },
  "notebookId": "3a075f0c-3a42-4087-8e29-fc0df1f7b9a6",
  "notebookPath": "Machine_Learning/lab2/Lab2_DL_part3_poetry_Mavzyutova.ipynb"
 },
 "nbformat": 4,
 "nbformat_minor": 4
}
